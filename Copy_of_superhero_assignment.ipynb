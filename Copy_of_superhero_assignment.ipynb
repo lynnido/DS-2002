{
  "cells": [
    {
      "cell_type": "markdown",
      "metadata": {
        "id": "view-in-github",
        "colab_type": "text"
      },
      "source": [
        "<a href=\"https://colab.research.google.com/github/lynnido/DS-2002/blob/main/Copy_of_superhero_assignment.ipynb\" target=\"_parent\"><img src=\"https://colab.research.google.com/assets/colab-badge.svg\" alt=\"Open In Colab\"/></a>"
      ]
    },
    {
      "cell_type": "markdown",
      "id": "5fa8dcf6",
      "metadata": {
        "id": "5fa8dcf6"
      },
      "source": [
        "# Superhero Database Assignment (SQLite & Google Colab)\n",
        "\n",
        "## Objective\n",
        "In this assignment, you will design and implement a **Superhero Database** using SQLite in Google Colab. This database will store superheroes, villains, and their battles. You will write SQL queries to analyze battle outcomes and relationships between heroes and villains.\n",
        "\n",
        "### Group Size:\n",
        "- 2 to 3 students per group.\n",
        "\n",
        "### Tools Required:\n",
        "- **Google Colab**\n",
        "- **SQLite (built into Python)**\n",
        "- **CSV files (provided for import)**"
      ]
    },
    {
      "cell_type": "markdown",
      "source": [
        "**Team Members: Mackenzie Chen, Lynni Do, Eujine Kim**"
      ],
      "metadata": {
        "id": "ikocCSSeExgJ"
      },
      "id": "ikocCSSeExgJ"
    },
    {
      "cell_type": "markdown",
      "source": [
        "Importing CSV file"
      ],
      "metadata": {
        "id": "ufVuPurg6TqE"
      },
      "id": "ufVuPurg6TqE"
    },
    {
      "cell_type": "code",
      "source": [
        "! git clone https://github.com/lynnido/DS-2002"
      ],
      "metadata": {
        "id": "3TNPjGqf5X6A",
        "colab": {
          "base_uri": "https://localhost:8080/"
        },
        "outputId": "405b810e-830b-4d11-e52d-403935079204"
      },
      "id": "3TNPjGqf5X6A",
      "execution_count": 1,
      "outputs": [
        {
          "output_type": "stream",
          "name": "stdout",
          "text": [
            "Cloning into 'DS-2002'...\n",
            "remote: Enumerating objects: 12, done.\u001b[K\n",
            "remote: Counting objects: 100% (12/12), done.\u001b[K\n",
            "remote: Compressing objects: 100% (10/10), done.\u001b[K\n",
            "remote: Total 12 (delta 0), reused 0 (delta 0), pack-reused 0 (from 0)\u001b[K\n",
            "Receiving objects: 100% (12/12), 4.82 KiB | 4.82 MiB/s, done.\n"
          ]
        }
      ]
    },
    {
      "cell_type": "markdown",
      "source": [
        "Establishing sqlite3 connection"
      ],
      "metadata": {
        "id": "G5Eus2Yp6jEm"
      },
      "id": "G5Eus2Yp6jEm"
    },
    {
      "cell_type": "code",
      "source": [
        "import sqlite3\n",
        "\n",
        "connection = sqlite3.connect('superhero_db.sqlite')\n",
        "\n",
        "print(\"Database created and connected!\")"
      ],
      "metadata": {
        "id": "DAFjeGUP5bgU",
        "colab": {
          "base_uri": "https://localhost:8080/"
        },
        "outputId": "9dc1dc18-a70f-473f-ac42-93b2196fd5ea"
      },
      "id": "DAFjeGUP5bgU",
      "execution_count": 2,
      "outputs": [
        {
          "output_type": "stream",
          "name": "stdout",
          "text": [
            "Database created and connected!\n"
          ]
        }
      ]
    },
    {
      "cell_type": "code",
      "source": [
        "cursor = connection.cursor()\n",
        "\n",
        "print(\"Cursor created!\")"
      ],
      "metadata": {
        "id": "uGiKvE135df7",
        "colab": {
          "base_uri": "https://localhost:8080/"
        },
        "outputId": "21e89880-69fd-431b-a11e-18efc93dda45"
      },
      "id": "uGiKvE135df7",
      "execution_count": 3,
      "outputs": [
        {
          "output_type": "stream",
          "name": "stdout",
          "text": [
            "Cursor created!\n"
          ]
        }
      ]
    },
    {
      "cell_type": "markdown",
      "id": "5535e625",
      "metadata": {
        "id": "5535e625"
      },
      "source": [
        "## Step 1: Setting Up Your SQLite Database\n",
        "\n",
        "### Tasks:\n",
        "1. Initialize SQLite in Google Colab.\n",
        "2. Create a database named `superhero_db.sqlite`.\n",
        "3. Define the database schema, ensuring it includes the following tables:\n",
        "   - `heroes`: Stores superhero names, powers, and teams.\n",
        "   - `villains`: Stores villains and their evil plans.\n",
        "   - `battles`: Tracks battles between heroes and villains, including the outcome.\n",
        "4. Implement primary keys and foreign keys where appropriate.\n",
        "\n",
        "✅ **Checkpoint:** Ensure that the database and tables have been successfully created."
      ]
    },
    {
      "cell_type": "code",
      "source": [
        "cursor.execute('''\n",
        "CREATE TABLE IF NOT EXISTS heroes (\n",
        "    id INTEGER PRIMARY KEY AUTOINCREMENT,\n",
        "    name TEXT NOT NULL,\n",
        "    power TEXT NOT NULL,\n",
        "    team TEXT NOT NULL\n",
        ")\n",
        "''')\n",
        "\n",
        "print(\"Heros table created!\")"
      ],
      "metadata": {
        "colab": {
          "base_uri": "https://localhost:8080/"
        },
        "id": "UCupfneqByiT",
        "outputId": "c32b537d-45b5-401d-cde7-c6c4ecfd988b"
      },
      "id": "UCupfneqByiT",
      "execution_count": 4,
      "outputs": [
        {
          "output_type": "stream",
          "name": "stdout",
          "text": [
            "Heros table created!\n"
          ]
        }
      ]
    },
    {
      "cell_type": "code",
      "source": [
        "cursor.execute('''\n",
        "CREATE TABLE IF NOT EXISTS villains (\n",
        "    id INTEGER PRIMARY KEY AUTOINCREMENT,\n",
        "    name TEXT NOT NULL,\n",
        "    evil_plan TEXT NOT NULL\n",
        ")\n",
        "''')\n",
        "\n",
        "print(\"Villains table created!\")"
      ],
      "metadata": {
        "colab": {
          "base_uri": "https://localhost:8080/"
        },
        "id": "O0Oq-vPEB3GJ",
        "outputId": "f0a9d692-2e93-4a31-ae85-d61b854278af"
      },
      "id": "O0Oq-vPEB3GJ",
      "execution_count": 5,
      "outputs": [
        {
          "output_type": "stream",
          "name": "stdout",
          "text": [
            "Villains table created!\n"
          ]
        }
      ]
    },
    {
      "cell_type": "code",
      "source": [
        "cursor.execute('''\n",
        "CREATE TABLE IF NOT EXISTS battles (\n",
        "    id INTEGER PRIMARY KEY AUTOINCREMENT,\n",
        "    hero_id INTEGER,\n",
        "    villain_id INTEGER,\n",
        "    outcome TEXT NOT NULL,\n",
        "    FOREIGN KEY (hero_id) REFERENCES heroes(id),\n",
        "    FOREIGN KEY (villain_id) REFERENCES villains(id)\n",
        ")\n",
        "''')\n",
        "\n",
        "print(\"Battles table created!\")"
      ],
      "metadata": {
        "colab": {
          "base_uri": "https://localhost:8080/"
        },
        "id": "3DHEINVOB-2G",
        "outputId": "2b739685-df39-4ca1-e612-421b67926770"
      },
      "id": "3DHEINVOB-2G",
      "execution_count": 6,
      "outputs": [
        {
          "output_type": "stream",
          "name": "stdout",
          "text": [
            "Battles table created!\n"
          ]
        }
      ]
    },
    {
      "cell_type": "markdown",
      "id": "154b3c3a",
      "metadata": {
        "id": "154b3c3a"
      },
      "source": [
        "## Step 2: Import Data from CSV Files\n",
        "\n",
        "### Tasks:\n",
        "1. Download the provided CSV files.\n",
        "2. Upload them to Google Colab.\n",
        "3. Write a script to import data from these files into the appropriate tables.\n",
        "4. Verify that the data has been successfully inserted.\n",
        "\n",
        "✅ **Checkpoint:** Ensure that each table contains the expected data from the CSV files."
      ]
    },
    {
      "cell_type": "code",
      "source": [
        "import pandas as pd\n",
        "\n",
        "hero_data = pd.read_csv('DS-2002/heroes.csv')\n",
        "villains_data = pd.read_csv('DS-2002/villains.csv')\n",
        "battles_data = pd.read_csv('DS-2002/battles.csv')\n",
        "\n",
        "print(hero_data.head())\n",
        "print(villains_data.head())\n",
        "print(battles_data.head())"
      ],
      "metadata": {
        "id": "MRnKCT8O79-f",
        "colab": {
          "base_uri": "https://localhost:8080/"
        },
        "outputId": "d0f60c46-d016-4888-da02-66ff77feb1c7"
      },
      "id": "MRnKCT8O79-f",
      "execution_count": 7,
      "outputs": [
        {
          "output_type": "stream",
          "name": "stdout",
          "text": [
            "   id        name             power            team\n",
            "0   1  Spider-Man      Web-slinging        Avengers\n",
            "1   2    Iron Man     Powered Armor        Avengers\n",
            "2   3      Batman  Genius Detective  Justice League\n",
            "3   4    Superman    Super Strength  Justice League\n",
            "4   5        Thor    God of Thunder        Avengers\n",
            "   id          name                           evil_plan\n",
            "0   1  Green Goblin                  Terrorize New York\n",
            "1   2        Thanos         Collect all Infinity Stones\n",
            "2   3         Joker              Spread chaos in Gotham\n",
            "3   4    Lex Luthor                     Defeat Superman\n",
            "4   5          Loki  Trick humanity into worshiping him\n",
            "   id  hero_id  villain_id       outcome\n",
            "0   1        1          10  Villain Wins\n",
            "1   2        9           3     Hero Wins\n",
            "2   3        8           1          Draw\n",
            "3   4        5           4  Villain Wins\n",
            "4   5        1           7     Hero Wins\n"
          ]
        }
      ]
    },
    {
      "cell_type": "markdown",
      "source": [
        "Inserting heroes.csv into heroes table"
      ],
      "metadata": {
        "id": "7WuCpfZZF9LL"
      },
      "id": "7WuCpfZZF9LL"
    },
    {
      "cell_type": "code",
      "source": [
        "hero_data.to_sql('heroes', connection, if_exists='replace', index=False)\n",
        "\n",
        "print(\"Data from CSV has been inserted into the superhero table.\")"
      ],
      "metadata": {
        "colab": {
          "base_uri": "https://localhost:8080/"
        },
        "id": "BGK14MH2C0ts",
        "outputId": "912df009-a888-48fa-f7fe-fd05dd6c56d4"
      },
      "id": "BGK14MH2C0ts",
      "execution_count": 8,
      "outputs": [
        {
          "output_type": "stream",
          "name": "stdout",
          "text": [
            "Data from CSV has been inserted into the superhero table.\n"
          ]
        }
      ]
    },
    {
      "cell_type": "markdown",
      "source": [
        "Inserting villains.csv into villains table"
      ],
      "metadata": {
        "id": "huNV-ipCG1ua"
      },
      "id": "huNV-ipCG1ua"
    },
    {
      "cell_type": "code",
      "source": [
        "villains_data.to_sql('villains', connection, if_exists='replace', index=False)\n",
        "\n",
        "print(\"Data from CSV has been inserted into the superhero table.\")"
      ],
      "metadata": {
        "colab": {
          "base_uri": "https://localhost:8080/"
        },
        "id": "7esvUWZMDXhH",
        "outputId": "aadd3ee6-2cdf-4f19-c000-81df929e50b2"
      },
      "id": "7esvUWZMDXhH",
      "execution_count": 9,
      "outputs": [
        {
          "output_type": "stream",
          "name": "stdout",
          "text": [
            "Data from CSV has been inserted into the superhero table.\n"
          ]
        }
      ]
    },
    {
      "cell_type": "markdown",
      "source": [
        "Inserting battles.csv into battles table"
      ],
      "metadata": {
        "id": "eNP7WtgJG5JM"
      },
      "id": "eNP7WtgJG5JM"
    },
    {
      "cell_type": "code",
      "source": [
        "battles_data.to_sql('battles', connection, if_exists='replace', index=False)\n",
        "\n",
        "print(\"Data from CSV has been inserted into the superhero table.\")"
      ],
      "metadata": {
        "colab": {
          "base_uri": "https://localhost:8080/"
        },
        "id": "DiWG3cYkDZ9V",
        "outputId": "74aae695-f8e9-4d4b-8f30-3e1d9d528311"
      },
      "id": "DiWG3cYkDZ9V",
      "execution_count": 10,
      "outputs": [
        {
          "output_type": "stream",
          "name": "stdout",
          "text": [
            "Data from CSV has been inserted into the superhero table.\n"
          ]
        }
      ]
    },
    {
      "cell_type": "markdown",
      "id": "33548d9f",
      "metadata": {
        "id": "33548d9f"
      },
      "source": [
        "## Step 3: Querying the Database\n",
        "\n",
        "### Tasks:\n",
        "Write SQL queries to answer the following:\n",
        "1. Retrieve all superheroes and their powers.\n",
        "2. Find all battles where the hero won.\n",
        "3. List all villains and their evil plans.\n",
        "4. Determine which superhero has fought the most battles.\n",
        "\n",
        "✅ **Checkpoint:** Ensure that all queries return meaningful results from the database."
      ]
    },
    {
      "cell_type": "code",
      "source": [
        "cursor.execute(\"SELECT name, power FROM heroes\")\n",
        "rows = cursor.fetchall()\n",
        "\n",
        "print(\"All superheroes and their powers:\")\n",
        "for row in rows:\n",
        "    print(row)"
      ],
      "metadata": {
        "colab": {
          "base_uri": "https://localhost:8080/"
        },
        "id": "VpzJyOkVAhnf",
        "outputId": "e1e6451d-c3cf-4fa2-a069-77e6ba51fb58"
      },
      "id": "VpzJyOkVAhnf",
      "execution_count": 11,
      "outputs": [
        {
          "output_type": "stream",
          "name": "stdout",
          "text": [
            "All superheroes and their powers:\n",
            "('Spider-Man', 'Web-slinging')\n",
            "('Iron Man', 'Powered Armor')\n",
            "('Batman', 'Genius Detective')\n",
            "('Superman', 'Super Strength')\n",
            "('Thor', 'God of Thunder')\n",
            "('Wonder Woman', 'Amazonian Strength')\n",
            "('Black Panther', 'Enhanced Agility')\n",
            "('The Flash', 'Super Speed')\n",
            "('Hulk', 'Super Strength')\n",
            "('Doctor Strange', 'Mystic Arts')\n"
          ]
        }
      ]
    },
    {
      "cell_type": "code",
      "source": [
        "cursor.execute(\"SELECT * FROM Battles where outcome ='Hero Wins'\")\n",
        "rows = cursor.fetchall()\n",
        "\n",
        "print(\"Hero Wins:\")\n",
        "for row in rows:\n",
        "    print(row)"
      ],
      "metadata": {
        "id": "dngZfvbFIfu-",
        "colab": {
          "base_uri": "https://localhost:8080/"
        },
        "outputId": "3122a509-28ec-4236-d9c0-0893f37f308d"
      },
      "id": "dngZfvbFIfu-",
      "execution_count": 12,
      "outputs": [
        {
          "output_type": "stream",
          "name": "stdout",
          "text": [
            "Hero Wins:\n",
            "(2, 9, 3, 'Hero Wins')\n",
            "(5, 1, 7, 'Hero Wins')\n",
            "(7, 9, 8, 'Hero Wins')\n",
            "(8, 3, 2, 'Hero Wins')\n",
            "(9, 7, 5, 'Hero Wins')\n",
            "(13, 8, 9, 'Hero Wins')\n",
            "(20, 3, 4, 'Hero Wins')\n",
            "(29, 3, 5, 'Hero Wins')\n",
            "(30, 5, 5, 'Hero Wins')\n"
          ]
        }
      ]
    },
    {
      "cell_type": "code",
      "source": [
        "cursor.execute(\"SELECT name, evil_plan FROM villains\")\n",
        "rows = cursor.fetchall()\n",
        "\n",
        "print(\"Villains and Their Evil Plans:\")\n",
        "for row in rows:\n",
        "    print(row)"
      ],
      "metadata": {
        "colab": {
          "base_uri": "https://localhost:8080/"
        },
        "id": "rMFmSMAPJtOz",
        "outputId": "897d8e4a-0346-486b-f571-189447f71784"
      },
      "id": "rMFmSMAPJtOz",
      "execution_count": 13,
      "outputs": [
        {
          "output_type": "stream",
          "name": "stdout",
          "text": [
            "Villains and Their Evil Plans:\n",
            "('Green Goblin', 'Terrorize New York')\n",
            "('Thanos', 'Collect all Infinity Stones')\n",
            "('Joker', 'Spread chaos in Gotham')\n",
            "('Lex Luthor', 'Defeat Superman')\n",
            "('Loki', 'Trick humanity into worshiping him')\n",
            "('Ultron', 'AI world domination')\n",
            "('Darkseid', 'Control the universe')\n",
            "('Venom', 'Consume Spider-Man')\n",
            "('Magneto', 'Mutant supremacy')\n",
            "('Red Skull', 'Revive Hydra')\n"
          ]
        }
      ]
    },
    {
      "cell_type": "code",
      "source": [
        "cursor.execute(\"SELECT heroes.name, COUNT(battles.id) AS battle_count FROM battles JOIN heroes ON battles.hero_id = hero_id GROUP BY heroes.name ORDER BY battle_count ASC LIMIT 1\")\n",
        "rows = cursor.fetchall()\n",
        "\n",
        "print(\"Hero with most Battles:\")\n",
        "for row in rows:\n",
        "    print(row)"
      ],
      "metadata": {
        "colab": {
          "base_uri": "https://localhost:8080/"
        },
        "id": "ptCIdNRkKBjs",
        "outputId": "c6a848e2-0ff5-4835-f490-6d13af502fa1"
      },
      "id": "ptCIdNRkKBjs",
      "execution_count": 14,
      "outputs": [
        {
          "output_type": "stream",
          "name": "stdout",
          "text": [
            "Hero with most Battles:\n",
            "('Batman', 30)\n"
          ]
        }
      ]
    },
    {
      "cell_type": "markdown",
      "id": "de8bda94",
      "metadata": {
        "id": "de8bda94"
      },
      "source": [
        "## Step 4: Add a Custom Feature\n",
        "\n",
        "### Tasks:\n",
        "1. Design and implement an additional table related to superheroes or villains.\n",
        "2. Populate it with data.\n",
        "3. Write at least one query to retrieve meaningful insights from the new table.\n",
        "\n",
        "**Examples of Custom Features:**\n",
        "- Sidekicks for superheroes\n",
        "- Villain hideouts\n",
        "- Battle locations\n",
        "- Superhero equipment\n",
        "\n",
        "✅ **Checkpoint:** Ensure that the new table and queries function correctly."
      ]
    },
    {
      "cell_type": "code",
      "source": [
        "cursor.execute(\"DROP TABLE IF EXISTS sidekicks\")\n",
        "\n",
        "cursor.execute('''\n",
        "CREATE TABLE IF NOT EXISTS sidekicks (\n",
        "    id INTEGER PRIMARY KEY AUTOINCREMENT,\n",
        "    name TEXT NOT NULL,\n",
        "    power TEXT NOT NULL,\n",
        "    team TEXT NOT NULL,\n",
        "    sidekick TEXT NOT NULL\n",
        ")\n",
        "''')\n",
        "\n",
        "print(\"Sidekicks table created!\")"
      ],
      "metadata": {
        "colab": {
          "base_uri": "https://localhost:8080/"
        },
        "id": "MbxhPQV6LbVt",
        "outputId": "cdf26ed8-91cf-47f7-ae0a-09b7e139c124"
      },
      "id": "MbxhPQV6LbVt",
      "execution_count": 16,
      "outputs": [
        {
          "output_type": "stream",
          "name": "stdout",
          "text": [
            "Sidekicks table created!\n"
          ]
        }
      ]
    },
    {
      "cell_type": "code",
      "source": [
        "sidekick_data = [\n",
        "    ('Spider-Man', 'Web-slinging', 'Avengers', 'Garfield'),\n",
        "    ('Iron Man', 'Powered Armor', 'Avengers', 'Robin'),\n",
        "    ('Batman', 'Genius Detective', 'Justice League', 'Kirby'),\n",
        "    ('Superman', 'Super Strength', 'Justice League', 'Muffin Man'),\n",
        "    ('Thor', 'God of Thunder', 'Avengers', 'Sonic'),\n",
        "    ('Wonder Woman', 'Amazonian Strength', 'Justice League', 'Talking Tom'),\n",
        "    ('Black Panther', 'Enhanced Agility', 'Avengers', 'Pikachu'),\n",
        "    ('The Flash', 'Super Speed', 'Justice League', 'Spongebob'),\n",
        "    ('Hulk', 'Super Strength', 'Avengers', 'Snoopy'),\n",
        "    ('Doctor Strange', 'Mystic Arts', 'Avengers', 'Bluey')\n",
        "]\n",
        "\n",
        "cursor.executemany('''\n",
        "INSERT INTO sidekicks (name, power, team, sidekick) VALUES (?, ?, ?, ?)\n",
        "''', sidekick_data)\n",
        "\n",
        "# Commit the transaction\n",
        "connection.commit()\n",
        "\n",
        "print(\"Data inserted into the sidekick details table!\")"
      ],
      "metadata": {
        "colab": {
          "base_uri": "https://localhost:8080/"
        },
        "id": "tUyt9uM3Lvcj",
        "outputId": "2b884b85-f472-43ae-fd21-6ae37fd7c42a"
      },
      "id": "tUyt9uM3Lvcj",
      "execution_count": 17,
      "outputs": [
        {
          "output_type": "stream",
          "name": "stdout",
          "text": [
            "Data inserted into the sidekick details table!\n"
          ]
        }
      ]
    },
    {
      "cell_type": "code",
      "source": [
        "cursor.execute(\"SELECT * FROM sidekicks\")\n",
        "rows = cursor.fetchall()\n",
        "\n",
        "# Print the results\n",
        "print(\"All sidekick data:\")\n",
        "for row in rows:\n",
        "    print(row)"
      ],
      "metadata": {
        "colab": {
          "base_uri": "https://localhost:8080/"
        },
        "id": "xrou1XLJ8os9",
        "outputId": "4ad9e331-e8bd-432a-c984-091de2f5c02b"
      },
      "id": "xrou1XLJ8os9",
      "execution_count": 18,
      "outputs": [
        {
          "output_type": "stream",
          "name": "stdout",
          "text": [
            "All sidekick data:\n",
            "(1, 'Spider-Man', 'Web-slinging', 'Avengers', 'Garfield')\n",
            "(2, 'Iron Man', 'Powered Armor', 'Avengers', 'Robin')\n",
            "(3, 'Batman', 'Genius Detective', 'Justice League', 'Kirby')\n",
            "(4, 'Superman', 'Super Strength', 'Justice League', 'Muffin Man')\n",
            "(5, 'Thor', 'God of Thunder', 'Avengers', 'Sonic')\n",
            "(6, 'Wonder Woman', 'Amazonian Strength', 'Justice League', 'Talking Tom')\n",
            "(7, 'Black Panther', 'Enhanced Agility', 'Avengers', 'Pikachu')\n",
            "(8, 'The Flash', 'Super Speed', 'Justice League', 'Spongebob')\n",
            "(9, 'Hulk', 'Super Strength', 'Avengers', 'Snoopy')\n",
            "(10, 'Doctor Strange', 'Mystic Arts', 'Avengers', 'Bluey')\n"
          ]
        }
      ]
    },
    {
      "cell_type": "code",
      "source": [
        "cursor.close()\n",
        "\n",
        "print(\"Cursor closed!\")"
      ],
      "metadata": {
        "colab": {
          "base_uri": "https://localhost:8080/"
        },
        "id": "QE0p98kc9glV",
        "outputId": "5e064e0a-f8ae-4aca-a45d-1f24c923879d"
      },
      "id": "QE0p98kc9glV",
      "execution_count": 19,
      "outputs": [
        {
          "output_type": "stream",
          "name": "stdout",
          "text": [
            "Cursor closed!\n"
          ]
        }
      ]
    },
    {
      "cell_type": "markdown",
      "id": "9bf43fe6",
      "metadata": {
        "id": "9bf43fe6"
      },
      "source": [
        "## Bonus Challenge (+5 Points)\n",
        "\n",
        "### Tasks:\n",
        "1. Enhance your project by adding a visual or interactive component.\n",
        "\n",
        "**Options:**\n",
        "- Visualize battles using Matplotlib (e.g., a bar chart showing how many battles each superhero has fought).\n",
        "- Make it interactive (e.g., allow users to input a superhero name and display their battles).\n",
        "\n",
        "✅ **Checkpoint:** If attempting the bonus, ensure that your visualization or interactive component works correctly."
      ]
    },
    {
      "cell_type": "markdown",
      "id": "89f56c05",
      "metadata": {
        "id": "89f56c05"
      },
      "source": [
        "## Submission Guidelines\n",
        "\n",
        "Each group must submit a **Google Colab Notebook (.ipynb)** containing:\n",
        "- ✅ **Database schema (DDL)**\n",
        "- ✅ **CSV imports & data insertion (DML)**\n",
        "- ✅ **SQL queries & results**\n",
        "- ✅ **Custom feature (bonus if applicable)**"
      ]
    },
    {
      "cell_type": "markdown",
      "id": "61477c9b",
      "metadata": {
        "id": "61477c9b"
      },
      "source": [
        "## Grading Criteria (Total: 25 Points)\n",
        "\n",
        "| Section                 | Points |\n",
        "|-------------------------|--------|\n",
        "| Database Setup          | 5      |\n",
        "| Data Importing         | 10     |\n",
        "| Querying the Data      | 10     |\n",
        "| Extra Feature          | 5      |\n",
        "| Bonus Challenge (Optional) | +5  |"
      ]
    },
    {
      "cell_type": "markdown",
      "id": "92bf6839",
      "metadata": {
        "id": "92bf6839"
      },
      "source": [
        "### Final Notes:\n",
        "- Be **creative** when designing superheroes and villains.\n",
        "- **Comment your code** to explain its functionality.\n",
        "- **Have fun** building your superhero universe!"
      ]
    }
  ],
  "metadata": {
    "colab": {
      "provenance": [],
      "include_colab_link": true
    },
    "language_info": {
      "name": "python"
    },
    "kernelspec": {
      "name": "python3",
      "display_name": "Python 3"
    }
  },
  "nbformat": 4,
  "nbformat_minor": 5
}